{
 "cells": [
  {
   "cell_type": "markdown",
   "metadata": {},
   "source": [
    "!pip install transformers datasets torch accelerate"
   ]
  },
  {
   "cell_type": "code",
   "execution_count": null,
   "metadata": {},
   "outputs": [],
   "source": [
    "pip install transformers datasets torch accelerate"
   ]
  },
  {
   "cell_type": "code",
   "execution_count": 6,
   "metadata": {},
   "outputs": [
    {
     "name": "stderr",
     "output_type": "stream",
     "text": [
      "Generating train split: 3 examples [00:00, 18.57 examples/s]\n"
     ]
    }
   ],
   "source": [
    "from transformers import AutoModelForCausalLM, AutoTokenizer, Trainer, TrainingArguments\n",
    "from datasets import load_dataset\n",
    "dataset = load_dataset(\"json\", data_files=\"training_data.jsonl\")"
   ]
  },
  {
   "cell_type": "code",
   "execution_count": 7,
   "metadata": {},
   "outputs": [
    {
     "name": "stdout",
     "output_type": "stream",
     "text": [
      "{'prompt': 'Withdraw all of my USDC on Aave on Base, then bridge it to Arbitrum, and swap 490 USDC to GMX.', 'completion': '{\"form_structure\": [{\"section\": \"Withdraw\", \"fields\": [{\"label\": \"Token\", \"type\": \"text\", \"value\": \"USDC\"}, {\"label\": \"Amount\", \"type\": \"text\", \"value\": \"all\"}, {\"label\": \"Chain\", \"type\": \"dropdown\", \"options\": [\"Base\"], \"value\": \"Base\"}, {\"label\": \"Protocol\", \"type\": \"dropdown\", \"options\": [\"Aave\"], \"value\": \"Aave\"}]}, {\"section\": \"Bridge\", \"fields\": [{\"label\": \"Token\", \"type\": \"text\", \"value\": \"USDC\"}, {\"label\": \"Amount\", \"type\": \"text\", \"value\": \"outputAmount\"}, {\"label\": \"Source Chain\", \"type\": \"dropdown\", \"options\": [\"Base\"], \"value\": \"Base\"}, {\"label\": \"Destination Chain\", \"type\": \"dropdown\", \"options\": [\"Arbitrum\"], \"value\": \"Arbitrum\"}]}, {\"section\": \"Swap\", \"fields\": [{\"label\": \"Chain\", \"type\": \"dropdown\", \"options\": [\"Arbitrum\"], \"value\": \"Arbitrum\"}, {\"label\": \"Input Token\", \"type\": \"text\", \"value\": \"USDC\"}, {\"label\": \"Input Amount\", \"type\": \"number\", \"value\": 490}, {\"label\": \"Output Token\", \"type\": \"text\", \"value\": \"GMX\"}, {\"label\": \"Slippage\", \"type\": \"text\", \"value\": \"auto\"}]}]}'}\n"
     ]
    }
   ],
   "source": [
    "print(dataset[\"train\"][0])"
   ]
  }
 ],
 "metadata": {
  "kernelspec": {
   "display_name": "py310",
   "language": "python",
   "name": "python3"
  },
  "language_info": {
   "codemirror_mode": {
    "name": "ipython",
    "version": 3
   },
   "file_extension": ".py",
   "mimetype": "text/x-python",
   "name": "python",
   "nbconvert_exporter": "python",
   "pygments_lexer": "ipython3",
   "version": "3.10.16"
  }
 },
 "nbformat": 4,
 "nbformat_minor": 2
}
